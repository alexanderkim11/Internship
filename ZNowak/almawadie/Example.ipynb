{
 "cells": [
  {
   "cell_type": "code",
   "execution_count": 1,
   "id": "88e237ad",
   "metadata": {},
   "outputs": [],
   "source": [
    "%load_ext Cython"
   ]
  },
  {
   "cell_type": "code",
   "execution_count": 2,
   "id": "1e710a54",
   "metadata": {},
   "outputs": [],
   "source": [
    "%%cython\n",
    "from __future__ import print_function\n",
    "cimport cython\n",
    "from libc.stdio cimport FILE, fopen, fseek, fclose, SEEK_END, SEEK_SET, ftell, fread, fgets, rewind\n",
    "from libc.stdlib cimport malloc, free\n",
    "from cpython.exc cimport PyErr_SetFromErrnoWithFilenameObject\n",
    "from libc.string cimport strcpy, strlen\n",
    "import re\n",
    "\n",
    "\n",
    "def read_lines():\n",
    "    cdef:\n",
    "        int    i                   # Loop counter */\n",
    "        char   line[100]           # Buffer to read each line */\n",
    "        int    line_count          # Total number of lines */\n",
    "        int    line_length         # Length of a single line */\n",
    "        FILE* txt                  # File of interest */\n",
    "        \n",
    "    # Open the file\n",
    "    txt = fopen(\"en-lexicon.txt\", \"r\")\n",
    "    \n",
    "    # Clear output parameter. */\n",
    "    arr = []\n",
    "    \n",
    "    # Get the count of lines in the file */\n",
    "    line_count = 94258\n",
    "\n",
    "\n",
    "    # Read each line from file and deep-copy in the array. */\n",
    "    for i in range(line_count):\n",
    "        # Read the current line. */\n",
    "        fgets(line, sizeof(line), txt);\n",
    "        length = strlen(line)\n",
    "        if line[length-3] == b'N':\n",
    "            if line[length-4] == b' ':\n",
    "                temp = line[:length-4]\n",
    "                arr.append(temp)\n",
    "            else:\n",
    "                temp = line[:length-5]\n",
    "                arr.append(temp)\n",
    "        \n",
    "    fclose(txt)\n",
    "    return arr"
   ]
  },
  {
   "cell_type": "code",
   "execution_count": 3,
   "id": "4365f059",
   "metadata": {},
   "outputs": [
    {
     "name": "stdout",
     "output_type": "stream",
     "text": [
      "[b'scripts\\\\10-Things-I-Hate-About-You.txt', b'scripts\\\\12-and-Holding.txt', b'scripts\\\\12-Monkeys.txt']\n"
     ]
    }
   ],
   "source": [
    "import helper\n",
    "import os\n",
    "from glob import glob\n",
    "nouns = read_lines()\n",
    "cwd = os.getcwd()\n",
    "files = glob(cwd + \"\\\\scripts\\\\*.txt\")\n",
    "files = [\"scripts\\\\\"+os.path.basename(x) for x in files]\n",
    "\n",
    "files = [bytes(file, 'utf-8') for file in files]\n",
    "filenames = files[0:3]\n",
    "print(filenames)"
   ]
  },
  {
   "cell_type": "code",
   "execution_count": null,
   "id": "adc0f65b",
   "metadata": {
    "scrolled": true
   },
   "outputs": [],
   "source": [
    "helper.corpus_to_array(filenames, nouns)"
   ]
  },
  {
   "cell_type": "code",
   "execution_count": null,
   "id": "93516a6c",
   "metadata": {},
   "outputs": [],
   "source": [
    "#len(nouns)"
   ]
  },
  {
   "cell_type": "code",
   "execution_count": null,
   "id": "3355571e",
   "metadata": {},
   "outputs": [],
   "source": [
    "#%timeit helper.corpus_to_array(filenames, nouns)"
   ]
  }
 ],
 "metadata": {
  "kernelspec": {
   "display_name": "Python 3",
   "language": "python",
   "name": "python3"
  },
  "language_info": {
   "codemirror_mode": {
    "name": "ipython",
    "version": 3
   },
   "file_extension": ".py",
   "mimetype": "text/x-python",
   "name": "python",
   "nbconvert_exporter": "python",
   "pygments_lexer": "ipython3",
   "version": "3.8.8"
  }
 },
 "nbformat": 4,
 "nbformat_minor": 5
}
