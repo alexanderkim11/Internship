{
 "cells": [
  {
   "cell_type": "markdown",
   "id": "79265166",
   "metadata": {},
   "source": [
    "# <center>NLP for Topic Modeling </center>\n",
    "---\n",
    "## Noun Extraction: \n",
    "The function takes in the folder name. <br />\n",
    "The function returns a list of files with only a list of all nouns remaining. (a bag of words) <br />\n",
    "* PARAM: foldername : str\n",
    "* RETURNS: res : list[list[string]]\n",
    "\n",
    "1. nltk\n",
    "2. spaCy\n",
    "3. pattern\n",
    "4. almawadie\n"
   ]
  },
  {
   "cell_type": "code",
   "execution_count": 1,
   "id": "289a14da",
   "metadata": {},
   "outputs": [],
   "source": [
    "import os\n",
    "from glob import glob\n",
    "\n",
    "def get_file_names(foldername):\n",
    "    cwd = os.getcwd()\n",
    "    files = glob(cwd + f\"\\\\{foldername}\\\\*.txt\")\n",
    "    files = [f\"{foldername}\\\\\"+os.path.basename(x) for x in files]\n",
    "    return files"
   ]
  },
  {
   "cell_type": "markdown",
   "id": "e981df7d",
   "metadata": {},
   "source": [
    "### nltk (natural language toolkit)"
   ]
  },
  {
   "cell_type": "code",
   "execution_count": 2,
   "id": "d308fd9e",
   "metadata": {},
   "outputs": [],
   "source": [
    "import nltk\n",
    "def noun_extraction_nltk(foldername):\n",
    "    files = get_file_names(foldername)\n",
    "    res = []\n",
    "    for file in files:\n",
    "        nouns = []\n",
    "        with open(file) as f:\n",
    "            text = f.read()\n",
    "            tokens = nltk.word_tokenize(text)\n",
    "            pos_tagged = nltk.pos_tag(tokens)\n",
    "            nouns = list(map(lambda x: x[0], filter(lambda x:x[1]=='NN', pos_tagged)))\n",
    "        res.append(nouns)\n",
    "    return res"
   ]
  },
  {
   "cell_type": "markdown",
   "id": "58bf4256",
   "metadata": {},
   "source": [
    "### spaCy"
   ]
  },
  {
   "cell_type": "code",
   "execution_count": 3,
   "id": "969f4950",
   "metadata": {},
   "outputs": [],
   "source": [
    "import spacy\n",
    "nlp = spacy.load(\"en_core_web_lg\")\n",
    "def noun_extraction_spacy(foldername):\n",
    "    files = get_file_names(foldername)\n",
    "    texts = []\n",
    "    for file in files:\n",
    "        with open(file) as f:\n",
    "            texts.append(f.read())\n",
    "    res = []\n",
    "    for doc in nlp.pipe(texts, disable=[\"ner\", \"lemmatizer\", \"parser\", \"senter\"]):\n",
    "        res.append([token.text for token in doc if token.pos_ == \"NOUN\"])\n",
    "    return res"
   ]
  },
  {
   "cell_type": "markdown",
   "id": "82e9b50e",
   "metadata": {},
   "source": [
    "### pattern (what gensim used to use)"
   ]
  },
  {
   "cell_type": "code",
   "execution_count": 4,
   "id": "fd81c8cb",
   "metadata": {},
   "outputs": [],
   "source": [
    "from pattern.text.en import tag\n",
    "def noun_extraction_pattern(foldername):\n",
    "    files = get_file_names(foldername)\n",
    "    res = []\n",
    "    for file in files:\n",
    "        nouns = []\n",
    "        with open(file) as f:\n",
    "            text = f.read()\n",
    "            tokens = nltk.word_tokenize(text)\n",
    "            tokens = tag(tokens, tokenize=False)\n",
    "            nouns = list(map(lambda x: x[0], filter(lambda y: \"NN\" in y[1][:2], tokens)))\n",
    "        res.append(nouns)\n",
    "    return res\n",
    "            "
   ]
  },
  {
   "cell_type": "markdown",
   "id": "4bced671",
   "metadata": {},
   "source": [
    "### almawadie (arabic for topic)"
   ]
  },
  {
   "cell_type": "code",
   "execution_count": 5,
   "id": "4ff93f17",
   "metadata": {},
   "outputs": [],
   "source": [
    "import tools\n",
    "\n",
    "def noun_extraction_almawadie(foldername):\n",
    "    noun_list = tools.read_lines()\n",
    "    files = get_file_names(foldername)\n",
    "    files = [bytes(file, 'utf-8') for file in files]\n",
    "    \n",
    "    res = tools.doc_to_list(files, noun_list)\n",
    "    return res"
   ]
  },
  {
   "cell_type": "markdown",
   "id": "700374b7",
   "metadata": {},
   "source": [
    "## <center> Testing the Noun Extraction</center>"
   ]
  },
  {
   "cell_type": "code",
   "execution_count": 9,
   "id": "f79a30dd",
   "metadata": {},
   "outputs": [
    {
     "name": "stdout",
     "output_type": "stream",
     "text": [
      "nltk:  ['school', 'head', 'building', 'eighteen', 'granny', 'dress', 'cup', 'coffee', 'backpack']\n",
      "spacy:  ['Taming', 'Revision', 'school', 'Loners', 'Crowd', 'sleep', 'eyes', 'building', 'granny']\n",
      "pattern:  ['Karen', 'McCullah', 'Lutz', 'amp', 'Kirsten', 'Smith', 'Shrew', 'William', 'Revision']\n",
      "almawadie:  [b'lutz', b'amp', b'smith', b'william', b'shakespeare', b'revision', b'november', b'welcome', b'high']\n"
     ]
    }
   ],
   "source": [
    "foldername = \"scripts_small\"\n",
    "print(\"nltk: \", noun_extraction_nltk(foldername)[0][1:10])\n",
    "print(\"spacy: \", noun_extraction_spacy(foldername)[0][1:10])\n",
    "print(\"pattern: \", noun_extraction_pattern(foldername)[0][1:10])\n",
    "print(\"almawadie: \", noun_extraction_almawadie(foldername)[0][1:10])"
   ]
  },
  {
   "cell_type": "code",
   "execution_count": 11,
   "id": "8d438273",
   "metadata": {},
   "outputs": [
    {
     "name": "stdout",
     "output_type": "stream",
     "text": [
      "15.5 s ± 1.28 s per loop (mean ± std. dev. of 7 runs, 1 loop each)\n",
      "26.1 s ± 1.61 s per loop (mean ± std. dev. of 7 runs, 1 loop each)\n",
      "19.8 s ± 1.55 s per loop (mean ± std. dev. of 7 runs, 1 loop each)\n",
      "108 ms ± 27.7 ms per loop (mean ± std. dev. of 7 runs, 10 loops each)\n"
     ]
    }
   ],
   "source": [
    "%timeit noun_extraction_nltk(foldername)\n",
    "%timeit noun_extraction_spacy(foldername)\n",
    "%timeit noun_extraction_pattern(foldername)\n",
    "%timeit noun_extraction_almawadie(foldername)"
   ]
  }
 ],
 "metadata": {
  "kernelspec": {
   "display_name": "Python 3 (ipykernel)",
   "language": "python",
   "name": "python3"
  },
  "language_info": {
   "codemirror_mode": {
    "name": "ipython",
    "version": 3
   },
   "file_extension": ".py",
   "mimetype": "text/x-python",
   "name": "python",
   "nbconvert_exporter": "python",
   "pygments_lexer": "ipython3",
   "version": "3.8.11"
  }
 },
 "nbformat": 4,
 "nbformat_minor": 5
}
